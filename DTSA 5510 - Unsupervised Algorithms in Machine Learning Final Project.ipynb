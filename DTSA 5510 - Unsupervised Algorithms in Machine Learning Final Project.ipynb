{
 "cells": [
  {
   "cell_type": "markdown",
   "id": "2131041e-d6b1-49d8-a166-a04e0b379ba6",
   "metadata": {},
   "source": [
    "# DTSA 5510 - Unsupervised Algorithms in Machine Learning Final Project"
   ]
  },
  {
   "cell_type": "markdown",
   "id": "f6a6edb5-cc80-4158-aa8e-2a086a370521",
   "metadata": {},
   "source": [
    "### Step 1: Gather Data, Detemine the Method of Data Collection and Provenance of the Data"
   ]
  },
  {
   "cell_type": "markdown",
   "id": "f4e14009-7bbb-4ade-88de-f1f91fe84f0a",
   "metadata": {},
   "source": [
    "The data source that I've selected is a Food Delivery Order Dataset, containing detailed insights into food orders in an area. I expect this dataset to be able to provide valuable insights into customer behaviour and restaurant performance and efficiency.\n",
    "\n",
    "This data was originally collected from the backend database of Zomato, an Indian multinational restaurant aggregator and food delivery company. To maintain privacy and anonyminity, the restaurant names have been modified. The remainder of the data has been left intact for authenticity.\n",
    "\n",
    "The problem that I want to approach and solve is determining whether or not an unsupervised learning model can cluster/group restaurants together in terms of delivery order performance. This would gather useful insights, as food delivery companies tend to want to group restaurants in terms of different metrics, for the sake of offering suggestions to the app users (e.g. restaurants by overall price, by fastest delivery time, by overall rating, etc.)."
   ]
  },
  {
   "cell_type": "markdown",
   "id": "5130eeaa-2d60-4aec-9ab5-3db3740f2e28",
   "metadata": {},
   "source": [
    "### Step 2: Identify an Unsupervised Learning Problem"
   ]
  },
  {
   "cell_type": "markdown",
   "id": "9aeeca76-7313-4cf3-adac-29daaa5b170f",
   "metadata": {},
   "source": [
    "For this project; I'll focus on using three different unsupervised learning models and I'll evaluate their performance against each other for this task.\n",
    "\n",
    "- Model #1 - K-Means Clustering (KMC)\n",
    "- Model #2 - K-Nearest Neighbours\n",
    "- Model #3 - Hierarchical Clustering"
   ]
  },
  {
   "cell_type": "markdown",
   "id": "0903eee7-44f8-4ec1-a62b-f13999cacf82",
   "metadata": {},
   "source": [
    "##### Problem and Objective:\n",
    "Can we effectively group restaurants in meaningful clusters based on food delivery order history? The goal is to apply unsupervised learning techniques (Kmeans, DBSCAN, and Hierarchical Clustering) to analyze food delivery order data, identify meaningful customer segments, detect outliers or anomalies, and uncover patterns in order to optimize delivery efficiency and customer satisfaction. \n",
    "\n",
    "The problem that I want to approach and solve is determining whether or not an unsupervised learning model can cluster/group restaurants together in terms of delivery order performance. This would gather useful insights, as food delivery companies tend to want to group restaurants in terms of different metrics, for the sake of offering suggestions to the app users (e.g. restaurants by overall price, by fastest delivery time, by overall rating, etc.).\n"
   ]
  },
  {
   "cell_type": "markdown",
   "id": "d98a3927-cc96-4304-875f-2e03576da1db",
   "metadata": {},
   "source": [
    "### Step 3: Exploratory Data Analysis (EDA) - Inspect, Visualize, and Clean the Data\n",
    "In this step, we'll explore and inspect the data factors/features, and make note of how to transform and clean the data in EDA Steps 3 and 4."
   ]
  },
  {
   "cell_type": "code",
   "execution_count": 702,
   "id": "7a96a061-93b2-4e3a-912b-5cf48bca742a",
   "metadata": {},
   "outputs": [],
   "source": [
    "# import data and relevent packages\n",
    "import pandas as pd\n",
    "import numpy as np\n",
    "import seaborn as sns\n",
    "import matplotlib.pyplot as plt\n",
    "%matplotlib inline\n",
    "\n",
    "from sklearn.model_selection import train_test_split\n",
    "from sklearn.neighbors import KNeighborsClassifier\n",
    "from sklearn.cluster import KMeans\n",
    "from sklearn.metrics import accuracy_score, silhouette_score\n",
    "from sklearn.preprocessing import StandardScaler\n",
    "from scipy.cluster.hierarchy import linkage, fcluster\n",
    "\n",
    "data = pd.read_csv('order_history_kaggle_data.csv')"
   ]
  },
  {
   "cell_type": "code",
   "execution_count": 703,
   "id": "e16af612-04cc-4767-8ed3-f871204b8f63",
   "metadata": {},
   "outputs": [
    {
     "name": "stdout",
     "output_type": "stream",
     "text": [
      "<class 'pandas.core.frame.DataFrame'>\n",
      "RangeIndex: 21321 entries, 0 to 21320\n",
      "Data columns (total 29 columns):\n",
      " #   Column                                              Non-Null Count  Dtype  \n",
      "---  ------                                              --------------  -----  \n",
      " 0   Restaurant ID                                       21321 non-null  int64  \n",
      " 1   Restaurant name                                     21321 non-null  object \n",
      " 2   Subzone                                             21321 non-null  object \n",
      " 3   City                                                21321 non-null  object \n",
      " 4   Order ID                                            21321 non-null  int64  \n",
      " 5   Order Placed At                                     21321 non-null  object \n",
      " 6   Order Status                                        21321 non-null  object \n",
      " 7   Delivery                                            21321 non-null  object \n",
      " 8   Distance                                            21321 non-null  object \n",
      " 9   Items in order                                      21321 non-null  object \n",
      " 10  Instructions                                        720 non-null    object \n",
      " 11  Discount construct                                  15823 non-null  object \n",
      " 12  Bill subtotal                                       21321 non-null  float64\n",
      " 13  Packaging charges                                   21321 non-null  float64\n",
      " 14  Restaurant discount (Promo)                         21321 non-null  float64\n",
      " 15  Restaurant discount (Flat offs, Freebies & others)  21321 non-null  float64\n",
      " 16  Gold discount                                       21321 non-null  float64\n",
      " 17  Brand pack discount                                 21321 non-null  float64\n",
      " 18  Total                                               21321 non-null  float64\n",
      " 19  Rating                                              2491 non-null   float64\n",
      " 20  Review                                              296 non-null    object \n",
      " 21  Cancellation / Rejection reason                     186 non-null    object \n",
      " 22  Restaurant compensation (Cancellation)              133 non-null    float64\n",
      " 23  Restaurant penalty (Rejection)                      3 non-null      float64\n",
      " 24  KPT duration (minutes)                              21026 non-null  float64\n",
      " 25  Rider wait time (minutes)                           21153 non-null  float64\n",
      " 26  Order Ready Marked                                  21321 non-null  object \n",
      " 27  Customer complaint tag                              469 non-null    object \n",
      " 28  Customer ID                                         21321 non-null  object \n",
      "dtypes: float64(12), int64(2), object(15)\n",
      "memory usage: 4.7+ MB\n"
     ]
    },
    {
     "data": {
      "text/html": [
       "<div>\n",
       "<style scoped>\n",
       "    .dataframe tbody tr th:only-of-type {\n",
       "        vertical-align: middle;\n",
       "    }\n",
       "\n",
       "    .dataframe tbody tr th {\n",
       "        vertical-align: top;\n",
       "    }\n",
       "\n",
       "    .dataframe thead th {\n",
       "        text-align: right;\n",
       "    }\n",
       "</style>\n",
       "<table border=\"1\" class=\"dataframe\">\n",
       "  <thead>\n",
       "    <tr style=\"text-align: right;\">\n",
       "      <th></th>\n",
       "      <th>Restaurant ID</th>\n",
       "      <th>Restaurant name</th>\n",
       "      <th>Subzone</th>\n",
       "      <th>City</th>\n",
       "      <th>Order ID</th>\n",
       "      <th>Order Placed At</th>\n",
       "      <th>Order Status</th>\n",
       "      <th>Delivery</th>\n",
       "      <th>Distance</th>\n",
       "      <th>Items in order</th>\n",
       "      <th>...</th>\n",
       "      <th>Rating</th>\n",
       "      <th>Review</th>\n",
       "      <th>Cancellation / Rejection reason</th>\n",
       "      <th>Restaurant compensation (Cancellation)</th>\n",
       "      <th>Restaurant penalty (Rejection)</th>\n",
       "      <th>KPT duration (minutes)</th>\n",
       "      <th>Rider wait time (minutes)</th>\n",
       "      <th>Order Ready Marked</th>\n",
       "      <th>Customer complaint tag</th>\n",
       "      <th>Customer ID</th>\n",
       "    </tr>\n",
       "  </thead>\n",
       "  <tbody>\n",
       "    <tr>\n",
       "      <th>0</th>\n",
       "      <td>20320607</td>\n",
       "      <td>Swaad</td>\n",
       "      <td>Sector 4</td>\n",
       "      <td>Delhi NCR</td>\n",
       "      <td>6168884918</td>\n",
       "      <td>11:38 PM, September 10 2024</td>\n",
       "      <td>Delivered</td>\n",
       "      <td>Zomato Delivery</td>\n",
       "      <td>3km</td>\n",
       "      <td>1 x Grilled Chicken Jamaican Tender, 1 x Grill...</td>\n",
       "      <td>...</td>\n",
       "      <td>NaN</td>\n",
       "      <td>NaN</td>\n",
       "      <td>NaN</td>\n",
       "      <td>NaN</td>\n",
       "      <td>NaN</td>\n",
       "      <td>18.35</td>\n",
       "      <td>11.6</td>\n",
       "      <td>Correctly</td>\n",
       "      <td>NaN</td>\n",
       "      <td>5d6c2b96db963098bc69768bea504c8bf46106a8a5178e...</td>\n",
       "    </tr>\n",
       "    <tr>\n",
       "      <th>1</th>\n",
       "      <td>20320607</td>\n",
       "      <td>Swaad</td>\n",
       "      <td>Sector 4</td>\n",
       "      <td>Delhi NCR</td>\n",
       "      <td>6170707559</td>\n",
       "      <td>11:34 PM, September 10 2024</td>\n",
       "      <td>Delivered</td>\n",
       "      <td>Zomato Delivery</td>\n",
       "      <td>2km</td>\n",
       "      <td>1 x Peri Peri Fries, 1 x Fried Chicken Angara ...</td>\n",
       "      <td>...</td>\n",
       "      <td>NaN</td>\n",
       "      <td>NaN</td>\n",
       "      <td>NaN</td>\n",
       "      <td>NaN</td>\n",
       "      <td>NaN</td>\n",
       "      <td>16.95</td>\n",
       "      <td>3.6</td>\n",
       "      <td>Correctly</td>\n",
       "      <td>NaN</td>\n",
       "      <td>0781815deb4a10a574e9fee4fa0b86b074d4a0b36175d5...</td>\n",
       "    </tr>\n",
       "    <tr>\n",
       "      <th>2</th>\n",
       "      <td>20320607</td>\n",
       "      <td>Swaad</td>\n",
       "      <td>Sector 4</td>\n",
       "      <td>Delhi NCR</td>\n",
       "      <td>6169375019</td>\n",
       "      <td>03:52 PM, September 10 2024</td>\n",
       "      <td>Delivered</td>\n",
       "      <td>Zomato Delivery</td>\n",
       "      <td>&lt;1km</td>\n",
       "      <td>1 x Bone in Peri Peri Grilled Chicken</td>\n",
       "      <td>...</td>\n",
       "      <td>NaN</td>\n",
       "      <td>NaN</td>\n",
       "      <td>NaN</td>\n",
       "      <td>NaN</td>\n",
       "      <td>NaN</td>\n",
       "      <td>14.05</td>\n",
       "      <td>12.2</td>\n",
       "      <td>Correctly</td>\n",
       "      <td>NaN</td>\n",
       "      <td>f93362f5ce5382657482d164e368186bcec9c6225fd93d...</td>\n",
       "    </tr>\n",
       "    <tr>\n",
       "      <th>3</th>\n",
       "      <td>20320607</td>\n",
       "      <td>Swaad</td>\n",
       "      <td>Sector 4</td>\n",
       "      <td>Delhi NCR</td>\n",
       "      <td>6151677434</td>\n",
       "      <td>03:45 PM, September 10 2024</td>\n",
       "      <td>Delivered</td>\n",
       "      <td>Zomato Delivery</td>\n",
       "      <td>2km</td>\n",
       "      <td>1 x Fried Chicken Ghostbuster Tender, 1 x Anga...</td>\n",
       "      <td>...</td>\n",
       "      <td>4.0</td>\n",
       "      <td>NaN</td>\n",
       "      <td>NaN</td>\n",
       "      <td>NaN</td>\n",
       "      <td>NaN</td>\n",
       "      <td>19.00</td>\n",
       "      <td>3.3</td>\n",
       "      <td>Correctly</td>\n",
       "      <td>NaN</td>\n",
       "      <td>1ed226d1b8a5f7acee12fc1d6676558330a3b2b742af5d...</td>\n",
       "    </tr>\n",
       "    <tr>\n",
       "      <th>4</th>\n",
       "      <td>20320607</td>\n",
       "      <td>Swaad</td>\n",
       "      <td>Sector 4</td>\n",
       "      <td>Delhi NCR</td>\n",
       "      <td>6167540897</td>\n",
       "      <td>03:04 PM, September 10 2024</td>\n",
       "      <td>Delivered</td>\n",
       "      <td>Zomato Delivery</td>\n",
       "      <td>2km</td>\n",
       "      <td>1 x Peri Peri Krispers, 1 x Fried Chicken Anga...</td>\n",
       "      <td>...</td>\n",
       "      <td>NaN</td>\n",
       "      <td>NaN</td>\n",
       "      <td>NaN</td>\n",
       "      <td>NaN</td>\n",
       "      <td>NaN</td>\n",
       "      <td>15.97</td>\n",
       "      <td>1.0</td>\n",
       "      <td>Correctly</td>\n",
       "      <td>NaN</td>\n",
       "      <td>d21a2ac6ea06b31cc3288ab20c4ef2f292066c096f2c5f...</td>\n",
       "    </tr>\n",
       "  </tbody>\n",
       "</table>\n",
       "<p>5 rows × 29 columns</p>\n",
       "</div>"
      ],
      "text/plain": [
       "   Restaurant ID Restaurant name   Subzone       City    Order ID  \\\n",
       "0       20320607           Swaad  Sector 4  Delhi NCR  6168884918   \n",
       "1       20320607           Swaad  Sector 4  Delhi NCR  6170707559   \n",
       "2       20320607           Swaad  Sector 4  Delhi NCR  6169375019   \n",
       "3       20320607           Swaad  Sector 4  Delhi NCR  6151677434   \n",
       "4       20320607           Swaad  Sector 4  Delhi NCR  6167540897   \n",
       "\n",
       "               Order Placed At Order Status         Delivery Distance  \\\n",
       "0  11:38 PM, September 10 2024    Delivered  Zomato Delivery      3km   \n",
       "1  11:34 PM, September 10 2024    Delivered  Zomato Delivery      2km   \n",
       "2  03:52 PM, September 10 2024    Delivered  Zomato Delivery     <1km   \n",
       "3  03:45 PM, September 10 2024    Delivered  Zomato Delivery      2km   \n",
       "4  03:04 PM, September 10 2024    Delivered  Zomato Delivery      2km   \n",
       "\n",
       "                                      Items in order  ... Rating Review  \\\n",
       "0  1 x Grilled Chicken Jamaican Tender, 1 x Grill...  ...    NaN    NaN   \n",
       "1  1 x Peri Peri Fries, 1 x Fried Chicken Angara ...  ...    NaN    NaN   \n",
       "2              1 x Bone in Peri Peri Grilled Chicken  ...    NaN    NaN   \n",
       "3  1 x Fried Chicken Ghostbuster Tender, 1 x Anga...  ...    4.0    NaN   \n",
       "4  1 x Peri Peri Krispers, 1 x Fried Chicken Anga...  ...    NaN    NaN   \n",
       "\n",
       "   Cancellation / Rejection reason  Restaurant compensation (Cancellation)  \\\n",
       "0                              NaN                                     NaN   \n",
       "1                              NaN                                     NaN   \n",
       "2                              NaN                                     NaN   \n",
       "3                              NaN                                     NaN   \n",
       "4                              NaN                                     NaN   \n",
       "\n",
       "   Restaurant penalty (Rejection)  KPT duration (minutes)  \\\n",
       "0                             NaN                   18.35   \n",
       "1                             NaN                   16.95   \n",
       "2                             NaN                   14.05   \n",
       "3                             NaN                   19.00   \n",
       "4                             NaN                   15.97   \n",
       "\n",
       "   Rider wait time (minutes)  Order Ready Marked  Customer complaint tag  \\\n",
       "0                       11.6           Correctly                     NaN   \n",
       "1                        3.6           Correctly                     NaN   \n",
       "2                       12.2           Correctly                     NaN   \n",
       "3                        3.3           Correctly                     NaN   \n",
       "4                        1.0           Correctly                     NaN   \n",
       "\n",
       "                                         Customer ID  \n",
       "0  5d6c2b96db963098bc69768bea504c8bf46106a8a5178e...  \n",
       "1  0781815deb4a10a574e9fee4fa0b86b074d4a0b36175d5...  \n",
       "2  f93362f5ce5382657482d164e368186bcec9c6225fd93d...  \n",
       "3  1ed226d1b8a5f7acee12fc1d6676558330a3b2b742af5d...  \n",
       "4  d21a2ac6ea06b31cc3288ab20c4ef2f292066c096f2c5f...  \n",
       "\n",
       "[5 rows x 29 columns]"
      ]
     },
     "execution_count": 703,
     "metadata": {},
     "output_type": "execute_result"
    }
   ],
   "source": [
    "#Overview of Dataset\n",
    "data.info()\n",
    "data.head()"
   ]
  },
  {
   "cell_type": "markdown",
   "id": "8778ee6f-4943-4b7f-b40c-deb762c198d0",
   "metadata": {},
   "source": [
    "#### 1. Factors and Components of the Dataset"
   ]
  },
  {
   "cell_type": "markdown",
   "id": "27d966f3-0a18-4b35-9c3b-7e127348625c",
   "metadata": {},
   "source": [
    "The \"factors\" in this dataset are as follows:\n",
    "- Restaurant ID (Integer)\n",
    "- Restaurant name (String)\n",
    "- Subzone (String)\n",
    "- City (String)\n",
    "- Order ID (Integer)\n",
    "- Order Placed At (String)\n",
    "- Order Status (String)\n",
    "- Delivery (String)\n",
    "- Distance (String)\n",
    "- Items in order (String)\n",
    "- Instructions (String)\n",
    "- Discount construct (String)\n",
    "- Bill subtotal (Float)\n",
    "- Packaging charges (Float)\n",
    "- Restaurant discount (Promo) (Float)\n",
    "- Restaurant discount (Flat offs, Freebies & others) (Float)\n",
    "- Gold discount (Float)\n",
    "- Brand pack discount (Float)\n",
    "- Total (Float)\n",
    "- Rating (Float)\n",
    "- Review (String)\n",
    "- Cancellation / Rejection reason (String)\n",
    "- Restaurant compensation (Cancellation) (Float)\n",
    "- Restaurant penalty (Rejection) (Float)\n",
    "- KPT duration (minutes) (Float)\n",
    "- Rider wait time (minutes) (Float)\n",
    "- Order Ready Marked (String)\n",
    "- Customer complaint tag (String)\n",
    "- Customer ID (String)"
   ]
  },
  {
   "cell_type": "markdown",
   "id": "0f963568-6982-44dc-9b5d-9d3ff4829e1c",
   "metadata": {},
   "source": [
    "##### Data distribution of each factor:"
   ]
  },
  {
   "cell_type": "markdown",
   "id": "6b21a3ec-3fc6-44c2-b923-d21244c5e6e6",
   "metadata": {},
   "source": [
    "Next, we'll use data visualizations to describe the data distributions.\n",
    "\n",
    "We'll remove the Restaurant Name Factor later on. Explanation: We have a column called Restaurant ID that effectively encodes the restaurant name, so we don't need the extra string-based column."
   ]
  },
  {
   "cell_type": "code",
   "execution_count": 708,
   "id": "04091d2d-a319-4dd1-b834-a247d3ae70bd",
   "metadata": {},
   "outputs": [
    {
     "name": "stdout",
     "output_type": "stream",
     "text": [
      "<class 'pandas.core.frame.DataFrame'>\n",
      "RangeIndex: 21321 entries, 0 to 21320\n",
      "Data columns (total 29 columns):\n",
      " #   Column                                              Non-Null Count  Dtype  \n",
      "---  ------                                              --------------  -----  \n",
      " 0   Restaurant ID                                       21321 non-null  int64  \n",
      " 1   Restaurant name                                     21321 non-null  object \n",
      " 2   Subzone                                             21321 non-null  object \n",
      " 3   City                                                21321 non-null  object \n",
      " 4   Order ID                                            21321 non-null  int64  \n",
      " 5   Order Placed At                                     21321 non-null  object \n",
      " 6   Order Status                                        21321 non-null  object \n",
      " 7   Delivery                                            21321 non-null  object \n",
      " 8   Distance                                            21321 non-null  object \n",
      " 9   Items in order                                      21321 non-null  object \n",
      " 10  Instructions                                        720 non-null    object \n",
      " 11  Discount construct                                  15823 non-null  object \n",
      " 12  Bill subtotal                                       21321 non-null  float64\n",
      " 13  Packaging charges                                   21321 non-null  float64\n",
      " 14  Restaurant discount (Promo)                         21321 non-null  float64\n",
      " 15  Restaurant discount (Flat offs, Freebies & others)  21321 non-null  float64\n",
      " 16  Gold discount                                       21321 non-null  float64\n",
      " 17  Brand pack discount                                 21321 non-null  float64\n",
      " 18  Total                                               21321 non-null  float64\n",
      " 19  Rating                                              2491 non-null   float64\n",
      " 20  Review                                              296 non-null    object \n",
      " 21  Cancellation / Rejection reason                     186 non-null    object \n",
      " 22  Restaurant compensation (Cancellation)              133 non-null    float64\n",
      " 23  Restaurant penalty (Rejection)                      3 non-null      float64\n",
      " 24  KPT duration (minutes)                              21026 non-null  float64\n",
      " 25  Rider wait time (minutes)                           21153 non-null  float64\n",
      " 26  Order Ready Marked                                  21321 non-null  object \n",
      " 27  Customer complaint tag                              469 non-null    object \n",
      " 28  Customer ID                                         21321 non-null  object \n",
      "dtypes: float64(12), int64(2), object(15)\n",
      "memory usage: 4.7+ MB\n"
     ]
    }
   ],
   "source": [
    "# data.drop('Restaurant name')\n",
    "data.drop(['Restaurant name'], axis = 1)\n",
    "data.info()"
   ]
  },
  {
   "cell_type": "markdown",
   "id": "21834cf8-5267-436a-986f-4723f5504b91",
   "metadata": {},
   "source": [
    "##### Restaurant ID"
   ]
  },
  {
   "cell_type": "code",
   "execution_count": 710,
   "id": "4410b7f9-b3e9-439c-aaf4-917d406939b6",
   "metadata": {},
   "outputs": [
    {
     "name": "stdout",
     "output_type": "stream",
     "text": [
      "The total number of restaurants represented in this dataset is:  21\n"
     ]
    }
   ],
   "source": [
    "print(\"The total number of restaurants represented in this dataset is: \", len(data['Restaurant ID'].unique()))"
   ]
  },
  {
   "cell_type": "code",
   "execution_count": 711,
   "id": "438e059a-8339-4b83-9cbb-d9aab410a051",
   "metadata": {},
   "outputs": [
    {
     "data": {
      "image/png": "[encoded data removed]",
      "text/plain": [
       "<Figure size 1000x600 with 1 Axes>"
      ]
     },
     "metadata": {},
     "output_type": "display_data"
    }
   ],
   "source": [
    "# Restaurant ID\n",
    "RestaurantID_valuecounts = data['Restaurant ID'].value_counts()\n",
    "plt.figure(figsize=(10, 6))\n",
    "ax = sns.barplot(x=RestaurantID_valuecounts.index, y=RestaurantID_valuecounts.values, palette='Set2',legend=False, hue=RestaurantID_valuecounts.index)\n",
    "    \n",
    "# Set plot labels and title\n",
    "plt.title('Figure 1: Distribution of Restaurant IDs in dataset')\n",
    "plt.xlabel('Resturant ID')\n",
    "plt.ylabel('Count')\n",
    "plt.xticks(rotation=90)  # Optional: Rotate x-axis labels for better readability\n",
    "for p in ax.patches:\n",
    "        ax.annotate(f'{int(p.get_height())}', \n",
    "                    (p.get_x() + p.get_width() / 2., p.get_height()), \n",
    "                    ha='center', va='center', \n",
    "                    fontsize=12, color='black', \n",
    "                    xytext=(0, 5), textcoords='offset points')\n",
    "plt.show()"
   ]
  },
  {
   "cell_type": "markdown",
   "id": "4f86d464-dce6-41a6-87a8-8252046dc5a4",
   "metadata": {},
   "source": [
    "From the data above, we can conclude that there is a huge imbalance between the restaurants represented in the dataset. Additional techniques may need to be applied here, depending on how well or poor the models perform as a result."
   ]
  },
  {
   "cell_type": "markdown",
   "id": "29e35d8b-65ba-4df8-b4c9-f6fa0fde2ac4",
   "metadata": {},
   "source": [
    "##### Subzone"
   ]
  },
  {
   "cell_type": "code",
   "execution_count": 714,
   "id": "700cb8cf-34f4-4da8-a2a3-3d1be073e81e",
   "metadata": {},
   "outputs": [
    {
     "data": {
      "image/png": "[encoded data removed]",
      "text/plain": [
       "<Figure size 1000x600 with 1 Axes>"
      ]
     },
     "metadata": {},
     "output_type": "display_data"
    }
   ],
   "source": [
    "subzone_value_counts = data['Subzone'].value_counts()\n",
    "plt.figure(figsize=(10, 6))\n",
    "ax = sns.barplot(x=subzone_value_counts.index, y=subzone_value_counts.values, palette='Set2',legend=False, hue=subzone_value_counts.index)\n",
    "    \n",
    "# Set plot labels and title\n",
    "plt.title('Figure 2: Distribution of Subzones in dataset')\n",
    "plt.xlabel('Subzone')\n",
    "plt.ylabel('Count')\n",
    "plt.xticks(rotation=90)  # Optional: Rotate x-axis labels for better readability\n",
    "for p in ax.patches:\n",
    "        ax.annotate(f'{int(p.get_height())}', \n",
    "                    (p.get_x() + p.get_width() / 2., p.get_height()), \n",
    "                    ha='center', va='center', \n",
    "                    fontsize=12, color='black', \n",
    "                    xytext=(0, 5), textcoords='offset points')\n",
    "\n",
    "plt.show()"
   ]
  },
  {
   "cell_type": "markdown",
   "id": "b80491a4-36a5-42bc-b061-40bc63de6af7",
   "metadata": {},
   "source": [
    "This is pretty clean. Let's make a note here to encode this factor so that we don't have to deal with strings."
   ]
  },
  {
   "cell_type": "markdown",
   "id": "76af915a-fd83-4ff7-935d-41518738477f",
   "metadata": {},
   "source": [
    "##### City"
   ]
  },
  {
   "cell_type": "code",
   "execution_count": 717,
   "id": "870be3ca-44c5-4020-b699-7870ebb9b54c",
   "metadata": {},
   "outputs": [
    {
     "data": {
      "image/png": "[encoded data removed]",
      "text/plain": [
       "<Figure size 1000x600 with 1 Axes>"
      ]
     },
     "metadata": {},
     "output_type": "display_data"
    }
   ],
   "source": [
    "#City:\n",
    "city_value_counts = data['City'].value_counts()\n",
    "plt.figure(figsize=(10, 6))\n",
    "ax = sns.barplot(x=city_value_counts.index, y=city_value_counts.values, palette='Set2',legend=False, hue=city_value_counts.index)\n",
    "    \n",
    "# Set plot labels and title\n",
    "plt.title('Figure 3: Distribution of Cities represented in dataset')\n",
    "plt.xlabel('City')\n",
    "plt.ylabel('Count')\n",
    "plt.xticks(rotation=90)  # Optional: Rotate x-axis labels for better readability\n",
    "for p in ax.patches:\n",
    "        ax.annotate(f'{int(p.get_height())}', \n",
    "                    (p.get_x() + p.get_width() / 2., p.get_height()), \n",
    "                    ha='center', va='center', \n",
    "                    fontsize=12, color='black', \n",
    "                    xytext=(0, 5), textcoords='offset points')\n",
    "plt.show()"
   ]
  },
  {
   "cell_type": "markdown",
   "id": "cac65fc6-30dd-45e7-b227-537c66a1bbc8",
   "metadata": {},
   "source": [
    "Since there appears to be only one city represented in the dataset, we can remove this column as being redundant. It's also worth noting that the Subzones category (Figure 2), appear to accurately capture the geographical aspect of the deliveries, all within one city (Delhi NCR). Thus, by removing this factor/column from our dataset, we won't be losing any real information. "
   ]
  },
  {
   "cell_type": "markdown",
   "id": "77555e4d-f0d0-4e5c-adf9-51a0ae7cfdc3",
   "metadata": {},
   "source": [
    "##### Order ID"
   ]
  },
  {
   "cell_type": "code",
   "execution_count": 720,
   "id": "42bd569f-c103-4234-afca-58effef753e3",
   "metadata": {},
   "outputs": [
    {
     "data": {
      "text/plain": [
       "True"
      ]
     },
     "execution_count": 720,
     "metadata": {},
     "output_type": "execute_result"
    }
   ],
   "source": [
    "len(data['Order ID'].unique()) == len(data)"
   ]
  },
  {
   "cell_type": "markdown",
   "id": "15e78c0a-377e-4c69-b1ec-3d36b9d8381c",
   "metadata": {},
   "source": [
    "The above sanity check confirms that the values in the OrderID column are unique designators for the orders placed. While this may act as good reference points, we can assume that the values themselves don't hold any underlying information that may be pertinent to the model itself, and that this factor/column can be removed as well."
   ]
  },
  {
   "cell_type": "markdown",
   "id": "7759ac18-a9c5-4047-b608-49cf859bbc87",
   "metadata": {},
   "source": [
    "##### Order Status"
   ]
  },
  {
   "cell_type": "code",
   "execution_count": 723,
   "id": "32bb7b9d-139b-40bd-a2e6-dba6fe06b4dd",
   "metadata": {},
   "outputs": [
    {
     "data": {
      "text/plain": [
       "array(['Delivered', 'Returned', 'Rejected', 'Return cancelled',\n",
       "       'Picked up', 'Timed out'], dtype=object)"
      ]
     },
     "execution_count": 723,
     "metadata": {},
     "output_type": "execute_result"
    }
   ],
   "source": [
    "data['Order Status'].unique()"
   ]
  },
  {
   "cell_type": "markdown",
   "id": "30cb15c0-0ece-417c-94e8-293c46554eac",
   "metadata": {},
   "source": [
    "Seeing as the Order Status is a object (string) column with finite values that may be useful, we'll make a note here to encode these values into numerical labels, for the sake of easier modelling later on."
   ]
  },
  {
   "cell_type": "markdown",
   "id": "8b97c88b-5e46-4e0d-9b58-465f259d3cac",
   "metadata": {},
   "source": [
    "##### Delivery"
   ]
  },
  {
   "cell_type": "code",
   "execution_count": 726,
   "id": "5e95631e-a07d-40f3-8866-aab205a41ad7",
   "metadata": {},
   "outputs": [
    {
     "data": {
      "text/plain": [
       "array(['Zomato Delivery'], dtype=object)"
      ]
     },
     "execution_count": 726,
     "metadata": {},
     "output_type": "execute_result"
    }
   ],
   "source": [
    "data['Delivery'].unique()"
   ]
  },
  {
   "cell_type": "markdown",
   "id": "21d09883-c458-4f0b-880a-ca9c656cb2e5",
   "metadata": {},
   "source": [
    "Similar to the 'City' factor, this column is one-dimensional, and can be removed for redundancy."
   ]
  },
  {
   "cell_type": "markdown",
   "id": "ac9532a6-76d6-4a63-99f8-88f1b2855d76",
   "metadata": {},
   "source": [
    "##### Distance"
   ]
  },
  {
   "cell_type": "code",
   "execution_count": 729,
   "id": "db7fa2fe-a9e2-451d-bb69-c4f0c886bdf9",
   "metadata": {},
   "outputs": [
    {
     "data": {
      "text/plain": [
       "array(['3km', '2km', '<1km', '1km', '6km', '4km', '5km', '8km', '7km',\n",
       "       '10km', '9km', '11km', '16km', '14km', '15km', '17km', '12km',\n",
       "       '18km', '13km', '19km', '21km', '20km'], dtype=object)"
      ]
     },
     "execution_count": 729,
     "metadata": {},
     "output_type": "execute_result"
    }
   ],
   "source": [
    "data['Distance'].unique()"
   ]
  },
  {
   "cell_type": "markdown",
   "id": "d938be12-dbe2-4f33-8204-5756c43d4591",
   "metadata": {},
   "source": [
    "For easier data understanding and modelling, let's encode this column into numerical labels as well. We'll encode it such that the integer represents the total kilometer distance (rounded to nearest whole value), so that we don't have to ask the models to handle these strings. (e.g. '<1km' = 0, '1km' = 1, '2km' = 2, etc.)"
   ]
  },
  {
   "cell_type": "markdown",
   "id": "44454fea-b6c6-44bc-96e3-bf457a526e0a",
   "metadata": {},
   "source": [
    "##### Items in order "
   ]
  },
  {
   "cell_type": "code",
   "execution_count": 732,
   "id": "5ec1668d-7aa5-43d5-9d95-5d07ab1ba7b2",
   "metadata": {},
   "outputs": [
    {
     "data": {
      "text/plain": [
       "0    1 x Grilled Chicken Jamaican Tender, 1 x Grill...\n",
       "1    1 x Peri Peri Fries, 1 x Fried Chicken Angara ...\n",
       "2                1 x Bone in Peri Peri Grilled Chicken\n",
       "3    1 x Fried Chicken Ghostbuster Tender, 1 x Anga...\n",
       "4    1 x Peri Peri Krispers, 1 x Fried Chicken Anga...\n",
       "Name: Items in order, dtype: object"
      ]
     },
     "execution_count": 732,
     "metadata": {},
     "output_type": "execute_result"
    }
   ],
   "source": [
    "data['Items in order'].head()"
   ]
  },
  {
   "cell_type": "markdown",
   "id": "1a832222-a2d3-4c96-b1e6-660edf5724a0",
   "metadata": {},
   "source": [
    "This column is strictly strings containing the items in order. It may be unnecessary, but including the number of items as an indicator of the size of hte order might be useful. Let's convert this column into a numerical column (int), to record the total number of items in the order."
   ]
  },
  {
   "cell_type": "markdown",
   "id": "fb373791-cb89-4050-b83e-4fea6295d9d5",
   "metadata": {},
   "source": [
    "##### Instructions"
   ]
  },
  {
   "cell_type": "code",
   "execution_count": 735,
   "id": "86ec2d3c-7baf-4509-9f3e-64295dd1fab1",
   "metadata": {},
   "outputs": [
    {
     "data": {
      "text/plain": [
       "0    NaN\n",
       "1    NaN\n",
       "2    NaN\n",
       "3    NaN\n",
       "4    NaN\n",
       "Name: Instructions, dtype: object"
      ]
     },
     "execution_count": 735,
     "metadata": {},
     "output_type": "execute_result"
    }
   ],
   "source": [
    "data['Instructions'].head()"
   ]
  },
  {
   "cell_type": "markdown",
   "id": "5cba1409-ffcf-4076-b9f7-6fc713ee0bb9",
   "metadata": {},
   "source": [
    "Let's see how many orders actually have instructions attached to them:"
   ]
  },
  {
   "cell_type": "code",
   "execution_count": 737,
   "id": "08eedd70-a13e-4652-aaba-b0e6a43c26cc",
   "metadata": {},
   "outputs": [
    {
     "name": "stdout",
     "output_type": "stream",
     "text": [
      "<class 'pandas.core.series.Series'>\n",
      "RangeIndex: 21321 entries, 0 to 21320\n",
      "Series name: Instructions\n",
      "Non-Null Count  Dtype \n",
      "--------------  ----- \n",
      "720 non-null    object\n",
      "dtypes: object(1)\n",
      "memory usage: 166.7+ KB\n"
     ]
    }
   ],
   "source": [
    "data['Instructions'].info()"
   ]
  },
  {
   "cell_type": "markdown",
   "id": "38a98e79-648f-4571-97bf-1c3259072d19",
   "metadata": {},
   "source": [
    "Seeing as only 720 orders have non-null instructions, and that we can assume that the instructions per food order will be very specific and hold little predictive/analytical value overall. Thus, this column can be removed overall to reduce noise in the model."
   ]
  },
  {
   "cell_type": "markdown",
   "id": "8a2600f3-c4d0-44e5-b65e-54f039adf2b3",
   "metadata": {},
   "source": [
    "##### Discount construct"
   ]
  },
  {
   "cell_type": "code",
   "execution_count": 740,
   "id": "87c02ef2-7977-428d-8821-995099be2cc2",
   "metadata": {},
   "outputs": [
    {
     "data": {
      "text/plain": [
       "0         40% off upto Rs.80\n",
       "1            Flat Rs.175 off\n",
       "2         40% off upto Rs.80\n",
       "3         40% off upto Rs.80\n",
       "4         40% off upto Rs.80\n",
       "                ...         \n",
       "21316    50% off upto Rs.100\n",
       "21317           Flat 15% off\n",
       "21318                    NaN\n",
       "21319                    NaN\n",
       "21320    50% off upto Rs.100\n",
       "Name: Discount construct, Length: 21321, dtype: object"
      ]
     },
     "execution_count": 740,
     "metadata": {},
     "output_type": "execute_result"
    }
   ],
   "source": [
    "data['Discount construct']"
   ]
  },
  {
   "cell_type": "markdown",
   "id": "e45ce605-64d8-45b8-b5ce-54a6affd85bc",
   "metadata": {},
   "source": [
    "Again, we find data that is heavily dependent on the restaurant, items being ordered, etc., that may introduce more noise. However, having discounts applied to the food orders may be influencing customers to order more from a given restaurant. It may be ideal to encode this in some other way to capture this information.\n",
    "We'll encode this as a binary column; 1 to indicate that some srot of discount has been applied to the order, and 0 to imply not"
   ]
  },
  {
   "cell_type": "markdown",
   "id": "2eabc024-9741-4bba-9be5-238ce0f7ba4d",
   "metadata": {},
   "source": [
    "##### Bill subtotal"
   ]
  },
  {
   "cell_type": "code",
   "execution_count": 743,
   "id": "58939ece-4e25-4f13-b617-f541c81eef69",
   "metadata": {},
   "outputs": [
    {
     "data": {
      "text/plain": [
       "0         715.0\n",
       "1        1179.0\n",
       "2         310.0\n",
       "3         620.0\n",
       "4         584.0\n",
       "          ...  \n",
       "21316     510.0\n",
       "21317     560.0\n",
       "21318     430.0\n",
       "21319     339.0\n",
       "21320     380.0\n",
       "Name: Bill subtotal, Length: 21321, dtype: float64"
      ]
     },
     "execution_count": 743,
     "metadata": {},
     "output_type": "execute_result"
    }
   ],
   "source": [
    "data['Bill subtotal']"
   ]
  },
  {
   "cell_type": "markdown",
   "id": "002ae89d-1978-40d2-a2c8-53b0b6ef1b84",
   "metadata": {},
   "source": [
    "As expected, the Bill subtotal column reflects the bill subtotal prior to any discounts, etc., and is logically full of unique values. It's resonable to assume many of the columns containing information about totals and/or discounts are similar in format, and can be left alone, but we'll explore each one in more depth just in case."
   ]
  },
  {
   "cell_type": "markdown",
   "id": "99c4991c-a0fd-4be5-955e-33e0bfccedce",
   "metadata": {},
   "source": [
    "##### Packaging charges "
   ]
  },
  {
   "cell_type": "code",
   "execution_count": 746,
   "id": "52cb2b9e-b4cb-4ff3-9cec-756a4fda5d5c",
   "metadata": {},
   "outputs": [
    {
     "data": {
      "text/plain": [
       "0        31.75\n",
       "1        50.20\n",
       "2        11.50\n",
       "3        27.00\n",
       "4        25.20\n",
       "         ...  \n",
       "21316    21.00\n",
       "21317    24.22\n",
       "21318    21.50\n",
       "21319    16.95\n",
       "21320    14.50\n",
       "Name: Packaging charges, Length: 21321, dtype: float64"
      ]
     },
     "execution_count": 746,
     "metadata": {},
     "output_type": "execute_result"
    }
   ],
   "source": [
    "data['Packaging charges']"
   ]
  },
  {
   "cell_type": "markdown",
   "id": "c4f67837-4dbd-4d14-b5e3-949f69a3a3ae",
   "metadata": {},
   "source": [
    "Similar to Bill subtotal, this factor is mostly unique to the order, as we can see by checking for value counts."
   ]
  },
  {
   "cell_type": "code",
   "execution_count": 748,
   "id": "33b74521-5d0d-4b02-93c5-7814e55e6fbd",
   "metadata": {},
   "outputs": [
    {
     "data": {
      "text/plain": [
       "Packaging charges\n",
       "15.50    614\n",
       "29.95    507\n",
       "23.95    433\n",
       "32.95    362\n",
       "17.45    299\n",
       "        ... \n",
       "57.55      1\n",
       "61.12      1\n",
       "21.64      1\n",
       "52.24      1\n",
       "62.53      1\n",
       "Name: count, Length: 2727, dtype: int64"
      ]
     },
     "execution_count": 748,
     "metadata": {},
     "output_type": "execute_result"
    }
   ],
   "source": [
    "data['Packaging charges'].value_counts()"
   ]
  },
  {
   "cell_type": "markdown",
   "id": "3babca17-79e7-4fb6-853a-41128b028d22",
   "metadata": {},
   "source": [
    "If it was unique to the restaurant (e.g. if each restaurant charged a flat fee for packaging), we would see the same number of unqiue values in this columns as there are unique restaurants in the dataset. It might be worth investigating a correlation here more in the next section."
   ]
  },
  {
   "cell_type": "markdown",
   "id": "3a1691a1-40fc-4703-a79b-50ac7d3677d6",
   "metadata": {},
   "source": [
    "##### Restaurant discount (Promo), Restaurant discount (Flat offs, Freebies & others), Gold discount and Brand pack discount "
   ]
  },
  {
   "cell_type": "code",
   "execution_count": 751,
   "id": "a0b83585-0749-40db-9c0a-7914169eccf8",
   "metadata": {},
   "outputs": [
    {
     "name": "stdout",
     "output_type": "stream",
     "text": [
      "<class 'pandas.core.series.Series'>\n",
      "RangeIndex: 21321 entries, 0 to 21320\n",
      "Series name: Restaurant discount (Promo)\n",
      "Non-Null Count  Dtype  \n",
      "--------------  -----  \n",
      "21321 non-null  float64\n",
      "dtypes: float64(1)\n",
      "memory usage: 166.7 KB\n"
     ]
    }
   ],
   "source": [
    "data['Restaurant discount (Promo)'].info()"
   ]
  },
  {
   "cell_type": "code",
   "execution_count": 752,
   "id": "c7ed36fd-6de2-45a6-bcb3-3aed68f4eec8",
   "metadata": {},
   "outputs": [
    {
     "name": "stdout",
     "output_type": "stream",
     "text": [
      "<class 'pandas.core.series.Series'>\n",
      "RangeIndex: 21321 entries, 0 to 21320\n",
      "Series name: Restaurant discount (Flat offs, Freebies & others)\n",
      "Non-Null Count  Dtype  \n",
      "--------------  -----  \n",
      "21321 non-null  float64\n",
      "dtypes: float64(1)\n",
      "memory usage: 166.7 KB\n"
     ]
    }
   ],
   "source": [
    "data['Restaurant discount (Flat offs, Freebies & others)'].info()"
   ]
  },
  {
   "cell_type": "code",
   "execution_count": 753,
   "id": "0e38ad41-f092-4169-82ab-34024e154f3f",
   "metadata": {},
   "outputs": [
    {
     "name": "stdout",
     "output_type": "stream",
     "text": [
      "<class 'pandas.core.series.Series'>\n",
      "RangeIndex: 21321 entries, 0 to 21320\n",
      "Series name: Gold discount\n",
      "Non-Null Count  Dtype  \n",
      "--------------  -----  \n",
      "21321 non-null  float64\n",
      "dtypes: float64(1)\n",
      "memory usage: 166.7 KB\n"
     ]
    }
   ],
   "source": [
    "data['Gold discount'].info()"
   ]
  },
  {
   "cell_type": "code",
   "execution_count": 754,
   "id": "79643243-71df-42d6-b05a-baf20b7fd6e3",
   "metadata": {},
   "outputs": [
    {
     "name": "stdout",
     "output_type": "stream",
     "text": [
      "<class 'pandas.core.series.Series'>\n",
      "RangeIndex: 21321 entries, 0 to 21320\n",
      "Series name: Brand pack discount\n",
      "Non-Null Count  Dtype  \n",
      "--------------  -----  \n",
      "21321 non-null  float64\n",
      "dtypes: float64(1)\n",
      "memory usage: 166.7 KB\n"
     ]
    }
   ],
   "source": [
    "data['Brand pack discount'].info()"
   ]
  },
  {
   "cell_type": "markdown",
   "id": "3ac5402c-ba64-4761-ba09-7af5e2fe60a3",
   "metadata": {},
   "source": [
    "These four factors are all float columns that may once again be specific to the order. It might be worth investigating any correlations amongst these values in the next section, but it's also reasonable to expect that dropping these values won't change much about the final model(s) performance(s)."
   ]
  },
  {
   "cell_type": "markdown",
   "id": "f8f1187a-72b9-4164-8f68-718b754a7000",
   "metadata": {},
   "source": [
    "##### Total"
   ]
  },
  {
   "cell_type": "code",
   "execution_count": 757,
   "id": "b036d57f-57a4-42bb-b347-805f1f426169",
   "metadata": {},
   "outputs": [
    {
     "name": "stdout",
     "output_type": "stream",
     "text": [
      "<class 'pandas.core.series.Series'>\n",
      "RangeIndex: 21321 entries, 0 to 21320\n",
      "Series name: Total\n",
      "Non-Null Count  Dtype  \n",
      "--------------  -----  \n",
      "21321 non-null  float64\n",
      "dtypes: float64(1)\n",
      "memory usage: 166.7 KB\n"
     ]
    }
   ],
   "source": [
    "data.Total.info()"
   ]
  },
  {
   "cell_type": "markdown",
   "id": "f7f6694c-f459-416b-abe0-bf6ce388e294",
   "metadata": {},
   "source": [
    "We can again assume that this data is unique to the order, and it would probably be best to assess this factor in correlation with other factors. However, let's see what the range of this column is:"
   ]
  },
  {
   "cell_type": "code",
   "execution_count": 759,
   "id": "ffa1b153-5bfd-4871-9002-d2d476205ed4",
   "metadata": {},
   "outputs": [
    {
     "name": "stdout",
     "output_type": "stream",
     "text": [
      "Range of Total factor:\n",
      "Minimum =  52.5\n",
      "Maximum =  12663.0\n",
      "Total Range =  12610.5\n"
     ]
    }
   ],
   "source": [
    "print(\"Range of Total factor:\")\n",
    "print(\"Minimum = \", data.Total.min())\n",
    "print(\"Maximum = \", data.Total.max())\n",
    "print(\"Total Range = \", data.Total.max() - data.Total.min())"
   ]
  },
  {
   "cell_type": "markdown",
   "id": "0e040119-0619-4ce7-b922-a9451c7010cf",
   "metadata": {},
   "source": [
    "##### Rating"
   ]
  },
  {
   "cell_type": "code",
   "execution_count": 761,
   "id": "cfa3d1f1-6ae0-4e07-b87f-a8838fd0982f",
   "metadata": {},
   "outputs": [
    {
     "name": "stdout",
     "output_type": "stream",
     "text": [
      "<class 'pandas.core.series.Series'>\n",
      "RangeIndex: 21321 entries, 0 to 21320\n",
      "Series name: Rating\n",
      "Non-Null Count  Dtype  \n",
      "--------------  -----  \n",
      "2491 non-null   float64\n",
      "dtypes: float64(1)\n",
      "memory usage: 166.7 KB\n"
     ]
    },
    {
     "data": {
      "text/plain": [
       "array([nan,  4.,  5.,  2.,  1.,  3.])"
      ]
     },
     "execution_count": 761,
     "metadata": {},
     "output_type": "execute_result"
    }
   ],
   "source": [
    "data.Rating.info()\n",
    "data.Rating.unique()"
   ]
  },
  {
   "cell_type": "markdown",
   "id": "ce6e9c5e-930a-40ca-9a86-f1d49505328c",
   "metadata": {},
   "source": [
    "Rating seems to already be in a somewhat usable format. Let's make a note to transform this data into cleaner integers (e.g. 1, 2, 3, etc.), and use 0 as an indicator that a rating wasn't given, versus being missing and removing the information entirely."
   ]
  },
  {
   "cell_type": "markdown",
   "id": "bfdbfa9f-96b0-40af-8c1b-1d8b69c22665",
   "metadata": {},
   "source": [
    "##### Review"
   ]
  },
  {
   "cell_type": "code",
   "execution_count": 764,
   "id": "2d6d90ce-461a-461d-94e7-d941b9ee0366",
   "metadata": {},
   "outputs": [
    {
     "name": "stdout",
     "output_type": "stream",
     "text": [
      "<class 'pandas.core.series.Series'>\n",
      "RangeIndex: 21321 entries, 0 to 21320\n",
      "Series name: Review\n",
      "Non-Null Count  Dtype \n",
      "--------------  ----- \n",
      "296 non-null    object\n",
      "dtypes: object(1)\n",
      "memory usage: 166.7+ KB\n"
     ]
    }
   ],
   "source": [
    "data.Review.info()"
   ]
  },
  {
   "cell_type": "markdown",
   "id": "416c9bce-265a-43d3-afbc-1882d3447ccc",
   "metadata": {},
   "source": [
    "Out of the 21321 records in this dataset, only 296 these orders have Ratings on them. That's effectively ~1% of the data. We can most likely remove this column to prevent noise, but let's see if there's a correlation between this column and the Rating column first."
   ]
  },
  {
   "cell_type": "markdown",
   "id": "16ae0481-3510-4a36-9aeb-f5a832e52475",
   "metadata": {},
   "source": [
    "##### Cancellation / Rejection reason"
   ]
  },
  {
   "cell_type": "code",
   "execution_count": 767,
   "id": "77d90219-57cc-497a-bb38-b58371afd4a3",
   "metadata": {},
   "outputs": [
    {
     "name": "stdout",
     "output_type": "stream",
     "text": [
      "<class 'pandas.core.series.Series'>\n",
      "RangeIndex: 21321 entries, 0 to 21320\n",
      "Series name: Cancellation / Rejection reason\n",
      "Non-Null Count  Dtype \n",
      "--------------  ----- \n",
      "186 non-null    object\n",
      "dtypes: object(1)\n",
      "memory usage: 166.7+ KB\n"
     ]
    }
   ],
   "source": [
    "data['Cancellation / Rejection reason'].info()"
   ]
  },
  {
   "cell_type": "markdown",
   "id": "5d56c925-cc42-4516-a953-211bd0fd3987",
   "metadata": {},
   "source": [
    "Similar to above, only 186 records in the dataset have a Cancellation / Rejection reason. Again, that's less than 1% of the data. Moreover this column is an object (string) column, that may not hold much useful information.\n",
    "For the sake of removing potential noise, let's make a note to remove this column from the dataset."
   ]
  },
  {
   "cell_type": "markdown",
   "id": "99fc4692-b6e7-4a1d-902e-34257fe6dc95",
   "metadata": {},
   "source": [
    "##### Restaurant compensation (Cancellation) "
   ]
  },
  {
   "cell_type": "code",
   "execution_count": 770,
   "id": "01cc2d0a-236c-45b3-bb2b-5ad82d1e1d45",
   "metadata": {},
   "outputs": [
    {
     "name": "stdout",
     "output_type": "stream",
     "text": [
      "<class 'pandas.core.series.Series'>\n",
      "RangeIndex: 21321 entries, 0 to 21320\n",
      "Series name: Restaurant compensation (Cancellation)\n",
      "Non-Null Count  Dtype  \n",
      "--------------  -----  \n",
      "133 non-null    float64\n",
      "dtypes: float64(1)\n",
      "memory usage: 166.7 KB\n"
     ]
    }
   ],
   "source": [
    "data['Restaurant compensation (Cancellation)'].info()"
   ]
  },
  {
   "cell_type": "markdown",
   "id": "1b8a167e-285a-4da9-83f7-cbfef5fbc735",
   "metadata": {},
   "source": [
    "Similar to above, this is very little data (<1%), and can most likely be removed without penalty."
   ]
  },
  {
   "cell_type": "markdown",
   "id": "c8245965-97a4-4b42-bf89-9935e8563bd6",
   "metadata": {},
   "source": [
    "##### Restaurant penalty (Rejection)"
   ]
  },
  {
   "cell_type": "code",
   "execution_count": 773,
   "id": "04745f3d-a928-4bff-a8a0-89d9ca46672b",
   "metadata": {},
   "outputs": [
    {
     "name": "stdout",
     "output_type": "stream",
     "text": [
      "<class 'pandas.core.series.Series'>\n",
      "RangeIndex: 21321 entries, 0 to 21320\n",
      "Series name: Restaurant penalty (Rejection)\n",
      "Non-Null Count  Dtype  \n",
      "--------------  -----  \n",
      "3 non-null      float64\n",
      "dtypes: float64(1)\n",
      "memory usage: 166.7 KB\n"
     ]
    }
   ],
   "source": [
    "data['Restaurant penalty (Rejection)'].info()"
   ]
  },
  {
   "cell_type": "markdown",
   "id": "05771cfc-6178-4cb8-b558-db5b4ddf1cfe",
   "metadata": {},
   "source": [
    "Again, this is only three records out of the total dataset; this column can be removed."
   ]
  },
  {
   "cell_type": "markdown",
   "id": "5f16ba5d-dd21-4bd5-9186-824c50004afc",
   "metadata": {},
   "source": [
    "##### KPT duration (minutes) \n",
    "Note from dataset source: KPT = Kitchen Preparation Time. E.g. total amount of time it takes the restaurant's kitchen to prepare the order."
   ]
  },
  {
   "cell_type": "code",
   "execution_count": 776,
   "id": "76e5b5eb-7857-4a45-8323-6fdfcdcc2162",
   "metadata": {},
   "outputs": [
    {
     "name": "stdout",
     "output_type": "stream",
     "text": [
      "<class 'pandas.core.series.Series'>\n",
      "RangeIndex: 21321 entries, 0 to 21320\n",
      "Series name: KPT duration (minutes)\n",
      "Non-Null Count  Dtype  \n",
      "--------------  -----  \n",
      "21026 non-null  float64\n",
      "dtypes: float64(1)\n",
      "memory usage: 166.7 KB\n"
     ]
    }
   ],
   "source": [
    "data['KPT duration (minutes)'].info()"
   ]
  },
  {
   "cell_type": "markdown",
   "id": "1d5a9fd1-8868-49d6-8c21-91d4058c1ef6",
   "metadata": {},
   "source": [
    "Let's leave this column alone for now, and assess it in correlation with the the Restaurant ID and the size of the order that we'll derive from the Items In Order Factor."
   ]
  },
  {
   "cell_type": "markdown",
   "id": "b9801712-5bb0-4b07-8965-9826c45e4455",
   "metadata": {},
   "source": [
    "##### Rider wait time (minutes)"
   ]
  },
  {
   "cell_type": "code",
   "execution_count": 779,
   "id": "a467579b-1770-4c86-8d0b-065bf432e3ab",
   "metadata": {},
   "outputs": [
    {
     "name": "stdout",
     "output_type": "stream",
     "text": [
      "<class 'pandas.core.series.Series'>\n",
      "RangeIndex: 21321 entries, 0 to 21320\n",
      "Series name: Rider wait time (minutes)\n",
      "Non-Null Count  Dtype  \n",
      "--------------  -----  \n",
      "21153 non-null  float64\n",
      "dtypes: float64(1)\n",
      "memory usage: 166.7 KB\n"
     ]
    }
   ],
   "source": [
    "data['Rider wait time (minutes)'].info()"
   ]
  },
  {
   "cell_type": "markdown",
   "id": "48cc0735-d3b4-4f94-b29c-fa6c0b60de08",
   "metadata": {},
   "source": [
    "Similar to above, let's assess this with regards to other factors in the next section."
   ]
  },
  {
   "cell_type": "markdown",
   "id": "443e09fa-f809-48b0-948a-003fe9b578db",
   "metadata": {},
   "source": [
    "##### Order Ready Marked\n",
    "Note from dataset source: Indicates whether the order was marked ready correctly"
   ]
  },
  {
   "cell_type": "code",
   "execution_count": 782,
   "id": "44843841-ca05-4f77-a605-0e9ea73ddb14",
   "metadata": {},
   "outputs": [
    {
     "data": {
      "text/plain": [
       "array(['Correctly', 'Incorrectly', 'Missed'], dtype=object)"
      ]
     },
     "execution_count": 782,
     "metadata": {},
     "output_type": "execute_result"
    }
   ],
   "source": [
    "data['Order Ready Marked'].unique()"
   ]
  },
  {
   "cell_type": "markdown",
   "id": "3e082125-9f9c-418e-b5b2-cc9ddeb66f30",
   "metadata": {},
   "source": [
    "Although we can probably derive more insights by investigating the correlation between this factor and the KPT and Rider Wait Time factors, let's view these labels more closely:"
   ]
  },
  {
   "cell_type": "code",
   "execution_count": 784,
   "id": "9b44f067-f60c-4ffb-9503-ae8becf19267",
   "metadata": {},
   "outputs": [
    {
     "data": {
      "image/png": "[encoded data removed]",
      "text/plain": [
       "<Figure size 400x400 with 1 Axes>"
      ]
     },
     "metadata": {},
     "output_type": "display_data"
    }
   ],
   "source": [
    "order_ready_marked_counts = data['Order Ready Marked'].value_counts()\n",
    "plt.figure(figsize=(4,4))\n",
    "plt.pie(order_ready_marked_counts,labels = order_ready_marked_counts.index,autopct='%1.1f%%', startangle=90, colors=['#ff9999','#66b3ff','#99ff99','#ffcc99','#c2c2f0'])\n",
    "plt.title('Figure 4: Distribution of Order Ready Marked Factor in Data')\n",
    "plt.show()\n"
   ]
  },
  {
   "cell_type": "markdown",
   "id": "61c19ea7-8f72-44f5-ac57-d0c95f37462c",
   "metadata": {},
   "source": [
    "##### Customer complaint tag\n",
    "Note from data source: Indicates any complaints made by customers."
   ]
  },
  {
   "cell_type": "code",
   "execution_count": 786,
   "id": "71016ea8-6f8b-4ccf-88df-4ce9e156d472",
   "metadata": {},
   "outputs": [
    {
     "name": "stdout",
     "output_type": "stream",
     "text": [
      "<class 'pandas.core.series.Series'>\n",
      "RangeIndex: 21321 entries, 0 to 21320\n",
      "Series name: Customer complaint tag\n",
      "Non-Null Count  Dtype \n",
      "--------------  ----- \n",
      "469 non-null    object\n",
      "dtypes: object(1)\n",
      "memory usage: 166.7+ KB\n"
     ]
    },
    {
     "data": {
      "text/plain": [
       "array([nan, 'Poor taste or quality', 'Non-refunded complaint',\n",
       "       'Poor packaging or spillage', 'Item(s) missing or not delivered',\n",
       "       'Wrong item(s) delivered'], dtype=object)"
      ]
     },
     "execution_count": 786,
     "metadata": {},
     "output_type": "execute_result"
    }
   ],
   "source": [
    "data['Customer complaint tag'].info()\n",
    "data['Customer complaint tag'].unique()"
   ]
  },
  {
   "cell_type": "code",
   "execution_count": 787,
   "id": "6ff504df-6bcc-4fb8-b71a-e81e9d6bbb5f",
   "metadata": {},
   "outputs": [
    {
     "data": {
      "image/png": "[encoded data removed]",
      "text/plain": [
       "<Figure size 400x400 with 1 Axes>"
      ]
     },
     "metadata": {},
     "output_type": "display_data"
    }
   ],
   "source": [
    "complaint_counts = data['Customer complaint tag'].value_counts()\n",
    "plt.figure(figsize=(4,4))\n",
    "plt.pie(complaint_counts,labels = complaint_counts.index,autopct='%1.1f%%', startangle=90, colors=['#ff9999','#66b3ff','#99ff99','#ffcc99','#c2c2f0'])\n",
    "plt.title('Figure 5: Distribution of Customer Complaint Factor in Data')\n",
    "plt.show()"
   ]
  },
  {
   "cell_type": "markdown",
   "id": "11e76c88-b722-4f8e-a098-76a10c6b69e0",
   "metadata": {},
   "source": [
    "It's worht nothing that only ~2.2% of records in the data have customer complaints. It might be worth it to encode this data, based on the problem/domain-space.\n",
    "Let's make a note to encode this data (including replacing the nan's, so that orders without complaints are probably encoded as well."
   ]
  },
  {
   "cell_type": "markdown",
   "id": "8b05959b-7c35-4241-b96d-592ecf860bce",
   "metadata": {},
   "source": [
    "##### Customer ID\n",
    "Customer ID is expected to be somewhat unique, and may also introduce noise into the models."
   ]
  },
  {
   "cell_type": "code",
   "execution_count": 790,
   "id": "c937a3d7-835f-4499-98f6-4ada36d85796",
   "metadata": {},
   "outputs": [
    {
     "name": "stdout",
     "output_type": "stream",
     "text": [
      "<class 'pandas.core.series.Series'>\n",
      "RangeIndex: 21321 entries, 0 to 21320\n",
      "Series name: Customer ID\n",
      "Non-Null Count  Dtype \n",
      "--------------  ----- \n",
      "21321 non-null  object\n",
      "dtypes: object(1)\n",
      "memory usage: 166.7+ KB\n"
     ]
    }
   ],
   "source": [
    "data['Customer ID'].info()"
   ]
  },
  {
   "cell_type": "code",
   "execution_count": 791,
   "id": "67cfe96f-50fa-4776-847a-454552bf24b3",
   "metadata": {},
   "outputs": [
    {
     "data": {
      "text/plain": [
       "False"
      ]
     },
     "execution_count": 791,
     "metadata": {},
     "output_type": "execute_result"
    }
   ],
   "source": [
    "len(data['Customer ID'].unique()) == len(data)"
   ]
  },
  {
   "cell_type": "markdown",
   "id": "fb85dc99-886e-4093-840e-b2cc46be5179",
   "metadata": {},
   "source": [
    "There is some repeat customers in the dataset, as expected. Let's investigate further."
   ]
  },
  {
   "cell_type": "code",
   "execution_count": 793,
   "id": "7e766438-3a58-4c79-a5b8-ac136b0f55a8",
   "metadata": {},
   "outputs": [
    {
     "data": {
      "text/plain": [
       "0    5d6c2b96db963098bc69768bea504c8bf46106a8a5178e...\n",
       "1    0781815deb4a10a574e9fee4fa0b86b074d4a0b36175d5...\n",
       "2    f93362f5ce5382657482d164e368186bcec9c6225fd93d...\n",
       "3    1ed226d1b8a5f7acee12fc1d6676558330a3b2b742af5d...\n",
       "4    d21a2ac6ea06b31cc3288ab20c4ef2f292066c096f2c5f...\n",
       "Name: Customer ID, dtype: object"
      ]
     },
     "execution_count": 793,
     "metadata": {},
     "output_type": "execute_result"
    }
   ],
   "source": [
    "data['Customer ID'].head()"
   ]
  },
  {
   "cell_type": "markdown",
   "id": "b4d93e4f-fac3-4f63-867c-daa8b9eb243f",
   "metadata": {},
   "source": [
    "This data is incredible noisy. Let's encode this with simpler numerical labels, and produce a scatter plot to see how many repeat customers we have.\n",
    "We'll use a hash function to generate some unique identifiers, and I'll do this first so that we can generate a plot immediately."
   ]
  },
  {
   "cell_type": "code",
   "execution_count": 795,
   "id": "26ee3b67-5891-4ae4-a1ec-62e1fb6da29d",
   "metadata": {},
   "outputs": [
    {
     "data": {
      "text/plain": [
       "0            0\n",
       "1            1\n",
       "2            2\n",
       "3            3\n",
       "4            4\n",
       "         ...  \n",
       "21316    11604\n",
       "21317    11605\n",
       "21318     2211\n",
       "21319    11606\n",
       "21320    11045\n",
       "Name: Customer ID, Length: 21321, dtype: int64"
      ]
     },
     "execution_count": 795,
     "metadata": {},
     "output_type": "execute_result"
    }
   ],
   "source": [
    "def mask_values_to_numeric(df, column):\n",
    "    \"\"\"\n",
    "    This function takes a DataFrame and a column name, and converts each unique value in the\n",
    "    specified column into a numeric identifier.\n",
    "    \n",
    "    Args:\n",
    "    df (pandas.DataFrame): The input DataFrame\n",
    "    column (str): The column name that contains the noisy data to be masked\n",
    "    \n",
    "    Returns:\n",
    "    pandas.DataFrame: DataFrame with the specified column replaced by numeric identifiers\n",
    "    \"\"\"\n",
    "    # Create a mapping from unique values in the column to numeric identifiers\n",
    "    value_map = {val: idx for idx, val in enumerate(df[column].unique())}\n",
    "    \n",
    "    # Apply the mapping to the column\n",
    "    df[column] = df[column].map(value_map)\n",
    "    \n",
    "    return df\n",
    "df = mask_values_to_numeric(data, 'Customer ID')\n",
    "df['Customer ID']"
   ]
  },
  {
   "cell_type": "code",
   "execution_count": 796,
   "id": "0c93e712-4e24-45fa-a40d-3a845484ff68",
   "metadata": {},
   "outputs": [
    {
     "data": {
      "image/png": "[encoded data removed]",
      "text/plain": [
       "<Figure size 640x480 with 1 Axes>"
      ]
     },
     "metadata": {},
     "output_type": "display_data"
    }
   ],
   "source": [
    "# Create a scatter plot with customerID and the number of records\n",
    "customer_counts = df['Customer ID'].value_counts()\n",
    "\n",
    "# Scatter plot\n",
    "plt.scatter(customer_counts.index, customer_counts.values)\n",
    "\n",
    "# Adding labels and title\n",
    "plt.title(\"Figure 6: Number of Orders for Each Customer\")\n",
    "plt.xlabel(\"Customer ID\")\n",
    "plt.ylabel(\"Number of Orders Placed\")\n",
    "\n",
    "# Show the plot\n",
    "plt.show()"
   ]
  },
  {
   "cell_type": "markdown",
   "id": "554c5558-83a7-4e69-b152-920e8243b626",
   "metadata": {},
   "source": [
    "So it appears there are at least a handful of customers that are anomalies; they have a massive number of orders (e.g. over 20, some over 30, etc.) Let's make a note to analyze this later on when we discuss anomalies and outliers."
   ]
  },
  {
   "cell_type": "markdown",
   "id": "8e56c5f5-4f6d-4826-9fdb-df47eb28d8b6",
   "metadata": {},
   "source": [
    "#### 2. Data Transformations"
   ]
  },
  {
   "cell_type": "markdown",
   "id": "46b711d0-1c96-4dd8-b74e-89ce25fd05ec",
   "metadata": {},
   "source": [
    "Before we get to analyzing data correlation, let's transform the data accordingly, so that we can investigate it further. We identified a few data transformations that we wanted to make in the previous section:\n",
    "1. Encode Subzone factor (8 labels)\n",
    "2. Mask Order Status (6)\n",
    "3. Mask Distance\n",
    "4. Count number of items in Items In Order Factor and transform into int values\n",
    "5. Mask Discount Construct Factor\n",
    "6. Mask Rating (turn nan value into 0 to indicate that no rating was given)\n",
    "7. Mask Review column (binary)\n",
    "\n",
    "We'll do these transformations below:"
   ]
  },
  {
   "cell_type": "code",
   "execution_count": 800,
   "id": "0a1fb3e2-8471-4fd4-821f-3e93cfa5cd4d",
   "metadata": {},
   "outputs": [],
   "source": [
    "#Write a function for one-hot encoding:\n",
    "def one_hot_encode(df, column_name):\n",
    "    \"\"\"\n",
    "    One-hot encodes the specified categorical column in the dataframe.\n",
    "    \n",
    "    Parameters:\n",
    "    - df (pd.DataFrame): The dataframe containing the 'Subzone' column.\n",
    "    - column_name (str): The name of the column to encode.\n",
    "    \n",
    "    Returns:\n",
    "    - pd.DataFrame: The dataframe with the original column replaced by one-hot encoded columns.\n",
    "    \"\"\"\n",
    "    # Apply one-hot encoding using pandas `get_dummies()`\n",
    "    encoded_df = pd.get_dummies(df, columns=[column_name], drop_first=False)    \n",
    "    return encoded_df"
   ]
  },
  {
   "cell_type": "code",
   "execution_count": 801,
   "id": "86feb982-ec0d-4fc6-9fb7-029f73392c90",
   "metadata": {},
   "outputs": [
    {
     "data": {
      "text/plain": [
       "Index(['Restaurant ID', 'Restaurant name', 'City', 'Order ID',\n",
       "       'Order Placed At', 'Order Status', 'Delivery', 'Distance',\n",
       "       'Items in order', 'Instructions', 'Discount construct', 'Bill subtotal',\n",
       "       'Packaging charges', 'Restaurant discount (Promo)',\n",
       "       'Restaurant discount (Flat offs, Freebies & others)', 'Gold discount',\n",
       "       'Brand pack discount', 'Total', 'Rating', 'Review',\n",
       "       'Cancellation / Rejection reason',\n",
       "       'Restaurant compensation (Cancellation)',\n",
       "       'Restaurant penalty (Rejection)', 'KPT duration (minutes)',\n",
       "       'Rider wait time (minutes)', 'Order Ready Marked',\n",
       "       'Customer complaint tag', 'Customer ID', 'Subzone_Chittaranjan Park',\n",
       "       'Subzone_DLF Phase 1', 'Subzone_Greater Kailash 2 (GK2)',\n",
       "       'Subzone_Sector 135', 'Subzone_Sector 4', 'Subzone_Shahdara',\n",
       "       'Subzone_Sikandarpur', 'Subzone_Vasant Kunj'],\n",
       "      dtype='object')"
      ]
     },
     "execution_count": 801,
     "metadata": {},
     "output_type": "execute_result"
    }
   ],
   "source": [
    "#Encode Subzone via one hot encoding.\n",
    "df_transformed_1 = one_hot_encode(data,'Subzone')\n",
    "df_transformed_1.columns"
   ]
  },
  {
   "cell_type": "code",
   "execution_count": 802,
   "id": "aab99175-926b-4ea9-8e85-fbd5cbd4853f",
   "metadata": {},
   "outputs": [
    {
     "name": "stdout",
     "output_type": "stream",
     "text": [
      "<class 'pandas.core.frame.DataFrame'>\n",
      "RangeIndex: 21321 entries, 0 to 21320\n",
      "Data columns (total 38 columns):\n",
      " #   Column                                              Non-Null Count  Dtype  \n",
      "---  ------                                              --------------  -----  \n",
      " 0   Restaurant ID                                       21321 non-null  int64  \n",
      " 1   Restaurant name                                     21321 non-null  object \n",
      " 2   City                                                21321 non-null  object \n",
      " 3   Order ID                                            21321 non-null  int64  \n",
      " 4   Order Placed At                                     21321 non-null  object \n",
      " 5   Order Status                                        21321 non-null  object \n",
      " 6   Delivery                                            21321 non-null  object \n",
      " 7   Distance                                            21321 non-null  object \n",
      " 8   Items in order                                      21321 non-null  object \n",
      " 9   Instructions                                        720 non-null    object \n",
      " 10  Discount construct                                  15823 non-null  object \n",
      " 11  Bill subtotal                                       21321 non-null  float64\n",
      " 12  Packaging charges                                   21321 non-null  float64\n",
      " 13  Restaurant discount (Promo)                         21321 non-null  float64\n",
      " 14  Restaurant discount (Flat offs, Freebies & others)  21321 non-null  float64\n",
      " 15  Gold discount                                       21321 non-null  float64\n",
      " 16  Brand pack discount                                 21321 non-null  float64\n",
      " 17  Total                                               21321 non-null  float64\n",
      " 18  Rating                                              2491 non-null   float64\n",
      " 19  Review                                              296 non-null    object \n",
      " 20  Cancellation / Rejection reason                     186 non-null    object \n",
      " 21  Restaurant compensation (Cancellation)              133 non-null    float64\n",
      " 22  Restaurant penalty (Rejection)                      3 non-null      float64\n",
      " 23  KPT duration (minutes)                              21026 non-null  float64\n",
      " 24  Rider wait time (minutes)                           21153 non-null  float64\n",
      " 25  Customer complaint tag                              469 non-null    object \n",
      " 26  Customer ID                                         21321 non-null  int64  \n",
      " 27  Subzone_Chittaranjan Park                           21321 non-null  bool   \n",
      " 28  Subzone_DLF Phase 1                                 21321 non-null  bool   \n",
      " 29  Subzone_Greater Kailash 2 (GK2)                     21321 non-null  bool   \n",
      " 30  Subzone_Sector 135                                  21321 non-null  bool   \n",
      " 31  Subzone_Sector 4                                    21321 non-null  bool   \n",
      " 32  Subzone_Shahdara                                    21321 non-null  bool   \n",
      " 33  Subzone_Sikandarpur                                 21321 non-null  bool   \n",
      " 34  Subzone_Vasant Kunj                                 21321 non-null  bool   \n",
      " 35  Order Ready Marked_Correctly                        21321 non-null  bool   \n",
      " 36  Order Ready Marked_Incorrectly                      21321 non-null  bool   \n",
      " 37  Order Ready Marked_Missed                           21321 non-null  bool   \n",
      "dtypes: bool(11), float64(12), int64(3), object(12)\n",
      "memory usage: 4.6+ MB\n"
     ]
    }
   ],
   "source": [
    "#Encode the \"Order Ready Marked\" column.\n",
    "df_transformed_2 = one_hot_encode(df_transformed_1,'Order Ready Marked')\n",
    "df_transformed_2.info()"
   ]
  },
  {
   "cell_type": "code",
   "execution_count": 803,
   "id": "711acb68-40a8-447b-b6bb-102c395fe8ad",
   "metadata": {},
   "outputs": [],
   "source": [
    "#Mask Distance column into more valuable integers:\n",
    "def mask_distance_column(df, column_name=\"Distance\"):\n",
    "    \"\"\"\n",
    "    Converts the categorical 'Distance' column from string (e.g., '3km') to numerical values (e.g., 3).\n",
    "    \n",
    "    Parameters:\n",
    "    - df (pd.DataFrame): The dataframe containing the 'Distance' column.\n",
    "    - column_name (str): The name of the column to convert (default is 'Distance').\n",
    "    \n",
    "    Returns:\n",
    "    - pd.DataFrame: The dataframe with the 'Distance' column converted to numeric values.\n",
    "    \"\"\"\n",
    "    # Replace '<1km' with a small value (e.g., 0.0)\n",
    "    df[column_name] = df[column_name].replace('<1km', '0km')\n",
    "    \n",
    "    # Remove the 'km' suffix and convert to numeric (float or integer)\n",
    "    df[column_name] = df[column_name].str.replace('km', '').astype(float)\n",
    "    \n",
    "    return df"
   ]
  },
  {
   "cell_type": "code",
   "execution_count": 804,
   "id": "35d17238-f471-4dfb-9bca-58f8b6001184",
   "metadata": {},
   "outputs": [],
   "source": [
    "df_transformed_3 = mask_distance_column(df_transformed_2,\"Distance\")"
   ]
  },
  {
   "cell_type": "code",
   "execution_count": 805,
   "id": "1b33b64f-20d6-4b19-a39b-d7b7a25e25d3",
   "metadata": {},
   "outputs": [],
   "source": [
    "#Count the number of items in each order so that we can turn that column into int values.\n",
    "def count_items_in_order(df, column_name=\"Items in order\"):\n",
    "    \"\"\"\n",
    "    Counts the number of items in each order and updates the dataframe with the count.\n",
    "    \n",
    "    Parameters:\n",
    "    - df (pd.DataFrame): The dataframe containing the 'Items in order' column.\n",
    "    - column_name (str): The name of the column to process (default is 'Items in order').\n",
    "    \n",
    "    Returns:\n",
    "    - pd.DataFrame: The dataframe with the 'Items in order' column replaced by the count of items.\n",
    "    \"\"\"\n",
    "    # Count the number of items in each order by splitting by commas and measuring the length of the resulting list\n",
    "    df[column_name] = df[column_name].apply(lambda x: len(x.split(',')))\n",
    "    \n",
    "    return df"
   ]
  },
  {
   "cell_type": "code",
   "execution_count": 806,
   "id": "2eb65e50-ef44-42ea-84c0-7ed1c7c17448",
   "metadata": {},
   "outputs": [
    {
     "data": {
      "text/plain": [
       "0        2\n",
       "1        3\n",
       "2        1\n",
       "3        2\n",
       "4        2\n",
       "        ..\n",
       "21316    1\n",
       "21317    1\n",
       "21318    1\n",
       "21319    1\n",
       "21320    1\n",
       "Name: Items in order, Length: 21321, dtype: int64"
      ]
     },
     "execution_count": 806,
     "metadata": {},
     "output_type": "execute_result"
    }
   ],
   "source": [
    "df_transformed_4 = count_items_in_order(df_transformed_3)\n",
    "df_transformed_4['Items in order']"
   ]
  },
  {
   "cell_type": "code",
   "execution_count": 807,
   "id": "f378490e-b372-423f-9a5c-c24f313ab6fa",
   "metadata": {},
   "outputs": [],
   "source": [
    "#Mask Discount construct factor. An order with a discount applied will be masked as \"True\" in this column, and False otherwise.\n",
    "def mask_discount_column(df, column_name=\"Discount construct\"):\n",
    "    \"\"\"\n",
    "    Masks the 'Discount construct' column: NaN or missing values will be marked as False, \n",
    "    and any non-null string values will be marked as True.\n",
    "    \n",
    "    Parameters:\n",
    "    - df (pd.DataFrame): The dataframe containing the 'Discount construct' column.\n",
    "    - column_name (str): The name of the column to mask (default is 'Discount construct').\n",
    "    \n",
    "    Returns:\n",
    "    - pd.DataFrame: The dataframe with the 'Discount construct' column replaced by Boolean values (True or False).\n",
    "    \"\"\"\n",
    "    # Apply mask: True for non-null strings, False for NaN or missing values\n",
    "    df[column_name] = df[column_name].apply(lambda x: True if isinstance(x, str) and pd.notna(x) else False)\n",
    "    \n",
    "    return df"
   ]
  },
  {
   "cell_type": "code",
   "execution_count": 808,
   "id": "296c67c0-2e74-448a-9c81-39c045f32fc6",
   "metadata": {},
   "outputs": [],
   "source": [
    "df_transformed_5 = mask_discount_column(df_transformed_4)"
   ]
  },
  {
   "cell_type": "code",
   "execution_count": 809,
   "id": "b5aa0496-40ae-4392-8523-d3f47a8d829d",
   "metadata": {},
   "outputs": [],
   "source": [
    "#Encode Rating column, replace nans with 0\n",
    "def mask_rating_column(df, column_name=\"Rating\"):\n",
    "    \"\"\"\n",
    "    Masks the 'Rating' column: NaN values will be replaced with 0, and the remaining ratings \n",
    "    (4, 5, 2, 1, 3) will be converted to integers.\n",
    "    \n",
    "    Parameters:\n",
    "    - df (pd.DataFrame): The dataframe containing the 'Rating' column.\n",
    "    - column_name (str): The name of the column to mask (default is 'Rating').\n",
    "    \n",
    "    Returns:\n",
    "    - pd.DataFrame: The dataframe with the 'Rating' column replaced by integers, with NaN replaced by 0.\n",
    "    \"\"\"\n",
    "    # Replace NaN values with 0 and convert to integers\n",
    "    df[column_name] = df[column_name].fillna(0).astype(int)\n",
    "    \n",
    "    return df"
   ]
  },
  {
   "cell_type": "code",
   "execution_count": 810,
   "id": "4a6dccfb-ddf5-4d70-93f7-0653e8ab2ea0",
   "metadata": {},
   "outputs": [],
   "source": [
    "df_transformed_6 = mask_rating_column(df_transformed_5)"
   ]
  },
  {
   "cell_type": "code",
   "execution_count": 813,
   "id": "75dbd9c3-ee7d-4abc-bfd9-f157d8be576d",
   "metadata": {},
   "outputs": [],
   "source": [
    "def mask_review_column(df, column_name=\"Review\"):\n",
    "    \"\"\"\n",
    "    Masks the 'Review' column: NaN values will be replaced with 0, \n",
    "    and any non-null string values will be marked as 1.\n",
    "    \n",
    "    Parameters:\n",
    "    - df (pd.DataFrame): The dataframe containing the 'Review' column.\n",
    "    - column_name (str): The name of the column to mask (default is 'Review').\n",
    "    \n",
    "    Returns:\n",
    "    - pd.DataFrame: The dataframe with the 'Review' column replaced by boolean values (0 or 1).\n",
    "    \"\"\"\n",
    "    # Replace NaN values with 0 and any non-null strings with 1\n",
    "    df[column_name] = df[column_name].apply(lambda x: 0 if pd.isna(x) else 1)\n",
    "    \n",
    "    return df"
   ]
  },
  {
   "cell_type": "code",
   "execution_count": 815,
   "id": "3e85665b-b329-4d86-8156-ad5e891014af",
   "metadata": {},
   "outputs": [],
   "source": [
    "df_transformed_7 = mask_review_column(df_transformed_6)\n",
    "data_transformed = df_transformed_7"
   ]
  },
  {
   "cell_type": "markdown",
   "id": "6e8d1e90-9d88-428a-9eb3-dc1bbc3b65ec",
   "metadata": {},
   "source": [
    "#### 3. Correlations between Factors"
   ]
  },
  {
   "cell_type": "markdown",
   "id": "3c13b1dd-3849-4ef3-8cae-d4e717fbf3c7",
   "metadata": {},
   "source": [
    "From our overall analysis in EDA Step 1, we identified a few factors of interest, and we want to investigate the following correlations:\n",
    "1. Restaurant discount (Promo), Restaurant discount (Flat offs, Freebies & others), Gold discount and Brand pack discount with Total\n",
    "2. Items Per Order and Total\n"
   ]
  },
  {
   "cell_type": "markdown",
   "id": "bfc74867-2415-49fe-b1a0-60fd097f9115",
   "metadata": {},
   "source": [
    "##### Correlation 1: "
   ]
  },
  {
   "cell_type": "code",
   "execution_count": 820,
   "id": "0fd82c8f-b7e3-46d8-83a2-618b9e640d97",
   "metadata": {},
   "outputs": [
    {
     "data": {
      "image/png": "[encoded data removed]",
      "text/plain": [
       "<Figure size 800x600 with 2 Axes>"
      ]
     },
     "metadata": {},
     "output_type": "display_data"
    }
   ],
   "source": [
    "corr_data_1 = data_transformed[['Restaurant discount (Promo)', 'Restaurant discount (Flat offs, Freebies & others)','Gold discount','Brand pack discount','Total']]\n",
    "correlation_matrix_1 = corr_data_1.corr()\n",
    "plt.figure(figsize=(8, 6))\n",
    "sns.heatmap(correlation_matrix_1, annot=True, cmap='coolwarm', fmt='.2f', cbar=True, linewidths=0.5)\n",
    "plt.title('Figure 7: Correlation Matrix of Discount Types and Total')\n",
    "plt.xticks(rotation=45, ha='right')\n",
    "plt.yticks(rotation=0, ha='right')\n",
    "    \n",
    "# Show the plot\n",
    "plt.tight_layout()\n",
    "plt.show()\n"
   ]
  },
  {
   "cell_type": "markdown",
   "id": "486c5455-1814-4c9c-b2b2-ab5202752c7b",
   "metadata": {},
   "source": [
    "Surprisingly, we don't see a huge correlation between the discounts provided and the total in this case. It seems like these could be independent variables altogehter."
   ]
  },
  {
   "cell_type": "code",
   "execution_count": 822,
   "id": "b6206bdb-d127-4f9b-9748-195cb553c575",
   "metadata": {},
   "outputs": [
    {
     "data": {
      "text/plain": [
       "Index(['Restaurant ID', 'Restaurant name', 'City', 'Order ID',\n",
       "       'Order Placed At', 'Order Status', 'Delivery', 'Distance',\n",
       "       'Items in order', 'Instructions', 'Discount construct', 'Bill subtotal',\n",
       "       'Packaging charges', 'Restaurant discount (Promo)',\n",
       "       'Restaurant discount (Flat offs, Freebies & others)', 'Gold discount',\n",
       "       'Brand pack discount', 'Total', 'Rating', 'Review',\n",
       "       'Cancellation / Rejection reason',\n",
       "       'Restaurant compensation (Cancellation)',\n",
       "       'Restaurant penalty (Rejection)', 'KPT duration (minutes)',\n",
       "       'Rider wait time (minutes)', 'Customer complaint tag', 'Customer ID',\n",
       "       'Subzone_Chittaranjan Park', 'Subzone_DLF Phase 1',\n",
       "       'Subzone_Greater Kailash 2 (GK2)', 'Subzone_Sector 135',\n",
       "       'Subzone_Sector 4', 'Subzone_Shahdara', 'Subzone_Sikandarpur',\n",
       "       'Subzone_Vasant Kunj', 'Order Ready Marked_Correctly',\n",
       "       'Order Ready Marked_Incorrectly', 'Order Ready Marked_Missed'],\n",
       "      dtype='object')"
      ]
     },
     "execution_count": 822,
     "metadata": {},
     "output_type": "execute_result"
    }
   ],
   "source": [
    "data_transformed.columns"
   ]
  },
  {
   "cell_type": "markdown",
   "id": "e487ab79-1592-4372-9030-a9ff06e18c6c",
   "metadata": {},
   "source": [
    "##### Correlation 2: "
   ]
  },
  {
   "cell_type": "code",
   "execution_count": 826,
   "id": "7ccc56c6-809d-43c1-8711-38e5007e168a",
   "metadata": {},
   "outputs": [
    {
     "data": {
      "image/png": "[encoded data removed]",
      "text/plain": [
       "<Figure size 800x600 with 1 Axes>"
      ]
     },
     "metadata": {},
     "output_type": "display_data"
    }
   ],
   "source": [
    "corr_data_2 = data_transformed['Items in order'].corr(data_transformed['Total'])\n",
    "    \n",
    "# Set up the matplotlib figure\n",
    "plt.figure(figsize=(8, 6))\n",
    "\n",
    "X = data_transformed['Items in order']\n",
    "Y = data_transformed['Total']\n",
    "# Create the scatter plot\n",
    "sns.scatterplot(x=X, y=Y)\n",
    "\n",
    "# Add a regression line (optional, to visualize trends)\n",
    "sns.regplot(x=X, y=Y, scatter=False, color='red', line_kws={\"linewidth\": 2})\n",
    "\n",
    "# Set the title and labels\n",
    "plt.title(f\"Figure 8: Correlation between Items in Order Column and Total\")\n",
    "plt.xlabel(\"Items in order\")\n",
    "plt.ylabel(\"Total\")\n",
    "\n",
    "# Show the plot\n",
    "plt.tight_layout()\n",
    "plt.show()\n"
   ]
  },
  {
   "cell_type": "markdown",
   "id": "b1517dbc-2f55-4e35-8211-227ed650048d",
   "metadata": {},
   "source": [
    "While there is a slight general positive trend between the number of items in an order and the total amount, it appears to be a very wide trend overall, not really indicating a linear relation as previous hypothesized.  "
   ]
  },
  {
   "cell_type": "markdown",
   "id": "7384ec95-9595-4637-96da-f5e995be8e30",
   "metadata": {},
   "source": [
    "#### 4. Finalized Data Cleaning"
   ]
  },
  {
   "cell_type": "markdown",
   "id": "23415c7d-d7e7-474f-bf8f-0afb90627128",
   "metadata": {},
   "source": [
    "##### Clean-up\n",
    "\n",
    "Finally, we'll go ahead and remove the columns that we identified as being unnecessary, redundant and/or noisy.\n"
   ]
  },
  {
   "cell_type": "code",
   "execution_count": 831,
   "id": "69028317-9cfe-4650-93d1-71b9a7d84a6f",
   "metadata": {},
   "outputs": [
    {
     "data": {
      "text/plain": [
       "Index(['Restaurant ID', 'Restaurant name', 'City', 'Order ID',\n",
       "       'Order Placed At', 'Order Status', 'Delivery', 'Distance',\n",
       "       'Items in order', 'Instructions', 'Discount construct', 'Bill subtotal',\n",
       "       'Packaging charges', 'Restaurant discount (Promo)',\n",
       "       'Restaurant discount (Flat offs, Freebies & others)', 'Gold discount',\n",
       "       'Brand pack discount', 'Total', 'Rating', 'Review',\n",
       "       'Cancellation / Rejection reason',\n",
       "       'Restaurant compensation (Cancellation)',\n",
       "       'Restaurant penalty (Rejection)', 'KPT duration (minutes)',\n",
       "       'Rider wait time (minutes)', 'Customer complaint tag', 'Customer ID',\n",
       "       'Subzone_Chittaranjan Park', 'Subzone_DLF Phase 1',\n",
       "       'Subzone_Greater Kailash 2 (GK2)', 'Subzone_Sector 135',\n",
       "       'Subzone_Sector 4', 'Subzone_Shahdara', 'Subzone_Sikandarpur',\n",
       "       'Subzone_Vasant Kunj', 'Order Ready Marked_Correctly',\n",
       "       'Order Ready Marked_Incorrectly', 'Order Ready Marked_Missed'],\n",
       "      dtype='object')"
      ]
     },
     "execution_count": 831,
     "metadata": {},
     "output_type": "execute_result"
    }
   ],
   "source": [
    "data_transformed.columns"
   ]
  },
  {
   "cell_type": "code",
   "execution_count": 833,
   "id": "723235bb-acdb-4d79-925e-23ef6bccf469",
   "metadata": {},
   "outputs": [],
   "source": [
    "data_cleaned_1 = data_transformed.drop(columns=[\"Restaurant name\",\n",
    "\"City\",\n",
    "\"Order ID\",\n",
    "\"Order Placed At\",\n",
    "\"Delivery\",\n",
    "\"Instructions\",\n",
    "\"Restaurant discount (Promo)\",\n",
    "'Restaurant discount (Flat offs, Freebies & others)',\n",
    "\"Gold discount\",\n",
    "'Brand pack discount',\n",
    "'Cancellation / Rejection reason',\n",
    "'Restaurant compensation (Cancellation)',\n",
    "'Restaurant penalty (Rejection)',\n",
    "'Customer ID'])"
   ]
  },
  {
   "cell_type": "code",
   "execution_count": 835,
   "id": "ac701bf9-a865-46a2-86f2-a51427f74ac5",
   "metadata": {},
   "outputs": [
    {
     "name": "stdout",
     "output_type": "stream",
     "text": [
      "<class 'pandas.core.frame.DataFrame'>\n",
      "RangeIndex: 21321 entries, 0 to 21320\n",
      "Data columns (total 24 columns):\n",
      " #   Column                           Non-Null Count  Dtype  \n",
      "---  ------                           --------------  -----  \n",
      " 0   Restaurant ID                    21321 non-null  int64  \n",
      " 1   Order Status                     21321 non-null  object \n",
      " 2   Distance                         21321 non-null  float64\n",
      " 3   Items in order                   21321 non-null  int64  \n",
      " 4   Discount construct               21321 non-null  bool   \n",
      " 5   Bill subtotal                    21321 non-null  float64\n",
      " 6   Packaging charges                21321 non-null  float64\n",
      " 7   Total                            21321 non-null  float64\n",
      " 8   Rating                           21321 non-null  int32  \n",
      " 9   Review                           21321 non-null  int64  \n",
      " 10  KPT duration (minutes)           21026 non-null  float64\n",
      " 11  Rider wait time (minutes)        21153 non-null  float64\n",
      " 12  Customer complaint tag           469 non-null    object \n",
      " 13  Subzone_Chittaranjan Park        21321 non-null  bool   \n",
      " 14  Subzone_DLF Phase 1              21321 non-null  bool   \n",
      " 15  Subzone_Greater Kailash 2 (GK2)  21321 non-null  bool   \n",
      " 16  Subzone_Sector 135               21321 non-null  bool   \n",
      " 17  Subzone_Sector 4                 21321 non-null  bool   \n",
      " 18  Subzone_Shahdara                 21321 non-null  bool   \n",
      " 19  Subzone_Sikandarpur              21321 non-null  bool   \n",
      " 20  Subzone_Vasant Kunj              21321 non-null  bool   \n",
      " 21  Order Ready Marked_Correctly     21321 non-null  bool   \n",
      " 22  Order Ready Marked_Incorrectly   21321 non-null  bool   \n",
      " 23  Order Ready Marked_Missed        21321 non-null  bool   \n",
      "dtypes: bool(12), float64(6), int32(1), int64(3), object(2)\n",
      "memory usage: 2.1+ MB\n"
     ]
    }
   ],
   "source": [
    "data_cleaned_1.info()"
   ]
  },
  {
   "cell_type": "markdown",
   "id": "6789b75d-1455-4d6c-acf6-280d7309b9ae",
   "metadata": {},
   "source": [
    "### Step 4: Perform Analysis Using Unsupervised Learning Models of your Choice, Present Discussion, and Conclusions"
   ]
  },
  {
   "cell_type": "code",
   "execution_count": 838,
   "id": "1f361ded-4bf3-4c9d-b799-4b70246876b5",
   "metadata": {},
   "outputs": [],
   "source": [
    "# Data Split:\n",
    "#Split dataset into train (60%), eval (20%), and test (20%) sets\n",
    "\n",
    "X_train, X_temp = train_test_split(data_cleaned_1, test_size=0.4, random_state=42)\n",
    "X_eval, X_test = train_test_split(X_temp, test_size=0.5, random_state=42)"
   ]
  },
  {
   "cell_type": "code",
   "execution_count": null,
   "id": "75681544-6e41-471f-bd7b-03f74cf34e50",
   "metadata": {},
   "outputs": [],
   "source": [
    "# Split the data into train (60%), eval (20%), and test (20%) sets\n",
    "X_train, X_temp = train_test_split(data, test_size=0.4, random_state=42)\n",
    "X_eval, X_test = train_test_split(X_temp, test_size=0.5, random_state=42)\n",
    "\n",
    "# Standardize the features for KMeans and Hierarchical Clustering\n",
    "scaler = StandardScaler()\n",
    "X_train_scaled = scaler.fit_transform(X_train)\n",
    "X_eval_scaled = scaler.transform(X_eval)\n",
    "X_test_scaled = scaler.transform(X_test)\n",
    "\n",
    "# 1. K-Means Clustering\n",
    "kmeans = KMeans(n_clusters=5, random_state=42)\n",
    "kmeans.fit(X_train_scaled)\n",
    "\n",
    "# Predict cluster labels for the test set\n",
    "kmeans_pred = kmeans.predict(X_test_scaled)\n",
    "\n",
    "# Calculate Silhouette Score for K-Means (on test set)\n",
    "kmeans_silhouette = silhouette_score(X_test_scaled, kmeans_pred)\n",
    "print(f'K-Means Clustering Silhouette Score: {kmeans_silhouette:.3f}')\n",
    "\n",
    "# 2. K-Nearest Neighbors for clustering (Using KNN for unsupervised learning)\n",
    "# Use KNN to predict the closest point in the feature space for each point in the test set.\n",
    "# Here we will use KNN for \"nearest neighbors\" without supervised labels (unsupervised context).\n",
    "\n",
    "from sklearn.neighbors import NearestNeighbors\n",
    "\n",
    "knn = NearestNeighbors(n_neighbors=3)\n",
    "knn.fit(X_train_scaled)\n",
    "\n",
    "# Find nearest neighbors in the test set\n",
    "knn_distances, knn_indices = knn.kneighbors(X_test_scaled)\n",
    "\n",
    "# Calculate Silhouette Score for KNN clustering (using the distances to the nearest neighbors)\n",
    "knn_silhouette = silhouette_score(X_test_scaled, knn_indices.flatten())  # Flattening for silhouette\n",
    "print(f'K-Nearest Neighbors Silhouette Score: {knn_silhouette:.3f}')\n",
    "\n",
    "# 3. Hierarchical Clustering\n",
    "# Perform Agglomerative Hierarchical Clustering using the 'ward' method\n",
    "Z = linkage(X_train_scaled, method='ward')\n",
    "\n",
    "# Predict cluster labels using a cutoff on the hierarchical clustering\n",
    "hc_pred = fcluster(Z, t=3, criterion='maxclust')\n",
    "\n",
    "# Calculate Silhouette Score for Hierarchical Clustering (on test set)\n",
    "hc_silhouette = silhouette_score(X_test_scaled, hc_pred)\n",
    "print(f'Hierarchical Clustering Silhouette Score: {hc_silhouette:.3f}')"
   ]
  },
  {
   "cell_type": "markdown",
   "id": "51903ff4-ce11-433b-82be-3491927cfdb6",
   "metadata": {},
   "source": [
    "K-Means Clustering Silhouette Score: 0.425\n",
    "K-Nearest Neighbors Silhouette Score: 0.348\n",
    "Hierarchical Clustering Silhouette Score: 0.412"
   ]
  },
  {
   "cell_type": "markdown",
   "id": "29b0ec8b-f2dc-4dda-87ea-c3ae3433b51c",
   "metadata": {
    "jp-MarkdownHeadingCollapsed": true
   },
   "source": [
    "#### Evaluation: "
   ]
  },
  {
   "cell_type": "markdown",
   "id": "b9602668-bf15-400a-8685-52055693b78f",
   "metadata": {},
   "source": [
    "#### References"
   ]
  },
  {
   "cell_type": "markdown",
   "id": "e2d65321-a24c-490c-aeef-bf12c2d4d061",
   "metadata": {},
   "source": [
    "Dataset: https://www.kaggle.com/datasets/sujalsuthar/food-delivery-order-history-data"
   ]
  },
  {
   "cell_type": "code",
   "execution_count": null,
   "id": "2176e171-a08f-443e-929b-0c1190032452",
   "metadata": {},
   "outputs": [],
   "source": []
  }
 ],
 "metadata": {
  "kernelspec": {
   "display_name": "Python [conda env:base] *",
   "language": "python",
   "name": "conda-base-py"
  },
  "language_info": {
   "codemirror_mode": {
    "name": "ipython",
    "version": 3
   },
   "file_extension": ".py",
   "mimetype": "text/x-python",
   "name": "python",
   "nbconvert_exporter": "python",
   "pygments_lexer": "ipython3",
   "version": "3.12.7"
  }
 },
 "nbformat": 4,
 "nbformat_minor": 5
}
